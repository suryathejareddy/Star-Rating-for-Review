{
 "cells": [
  {
   "cell_type": "markdown",
   "metadata": {},
   "source": [
    "# 1. Introduction"
   ]
  },
  {
   "cell_type": "markdown",
   "metadata": {},
   "source": [
    "## 1.1 Source"
   ]
  },
  {
   "cell_type": "markdown",
   "metadata": {},
   "source": [
    "source: https://www.kaggle.com/PromptCloudHQ/amazon-reviews-unlocked-mobile-phones"
   ]
  },
  {
   "cell_type": "markdown",
   "metadata": {},
   "source": [
    "## 1.2 Description of datast"
   ]
  },
  {
   "cell_type": "markdown",
   "metadata": {},
   "source": [
    "Is it possible to predict the star rating of an Amazon review given the text of that review? We want to try to answer that question using a collection of 400,000 Amazon reviews of unlocked mobile phones as my dataset. "
   ]
  },
  {
   "cell_type": "markdown",
   "metadata": {},
   "source": [
    "----| Metric | Description |\n",
    "----|--------|:-------------|\n",
    "----| *Product Name*| Name of The Product |\n",
    "----| *Brand Name*| Manufacturer of the Product |\n",
    "----| *Price*| Price of the Product|\n",
    "----| *Rating*| Rating Given for the product|\n",
    "----| *Reviews*| Review left by the Customer|\n",
    "----| *Review Votes*| Number of People who found the Review Helpful |"
   ]
  },
  {
   "cell_type": "markdown",
   "metadata": {},
   "source": [
    "## Imports and setup"
   ]
  },
  {
   "cell_type": "code",
   "execution_count": 1,
   "metadata": {},
   "outputs": [
    {
     "name": "stdout",
     "output_type": "stream",
     "text": [
      "Collecting package metadata (current_repodata.json): done\n",
      "Solving environment: done\n",
      "\n",
      "# All requested packages already installed.\n",
      "\n",
      "Retrieving notices: ...working... done\n",
      "\n",
      "Note: you may need to restart the kernel to use updated packages.\n"
     ]
    }
   ],
   "source": [
    "conda install -c conda-forge wordcloud\n"
   ]
  },
  {
   "cell_type": "code",
   "execution_count": 2,
   "metadata": {},
   "outputs": [],
   "source": [
    "# Print stuff inline\n",
    "%matplotlib inline\n",
    "\n",
    "# Imports\n",
    "import re\n",
    "import warnings\n",
    "\n",
    "import matplotlib.pyplot as plt\n",
    "import numpy as np\n",
    "import pandas as pd\n",
    "from bs4 import BeautifulSoup\n",
    "from IPython.display import display\n",
    "from sklearn import model_selection\n",
    "#from sklearn.cross_validation import train_test_split\n",
    "from sklearn.model_selection import train_test_split\n",
    "\n",
    "from sklearn.feature_extraction.text import TfidfVectorizer\n",
    "from sklearn.model_selection import RandomizedSearchCV\n",
    "from sklearn.model_selection import GridSearchCV\n",
    "from sklearn.model_selection import train_test_split\n",
    "#from sklearn.grid_search import GridSearchCV\n",
    "from sklearn.linear_model import LogisticRegression, SGDClassifier\n",
    "from sklearn.metrics import (accuracy_score, classification_report,\n",
    "                             confusion_matrix, f1_score)\n",
    "from sklearn.naive_bayes import MultinomialNB\n",
    "from wordcloud import STOPWORDS, WordCloud\n",
    "import sys"
   ]
  },
  {
   "cell_type": "markdown",
   "metadata": {},
   "source": [
    "## Helper functions"
   ]
  },
  {
   "cell_type": "code",
   "execution_count": 3,
   "metadata": {},
   "outputs": [],
   "source": [
    "# http://stackoverflow.com/questions/33181846/programmatically-convert-pandas-dataframe-to-markdown-table\n",
    "# This function converts a pandas dataframe to a markdown table.\n",
    "def pandas_df_to_markdown_table(df):\n",
    "    fmt = ['---' for i in range(len(df.columns))]\n",
    "    df_fmt = pd.DataFrame([fmt], columns=df.columns)\n",
    "    df_formatted = pd.concat([df_fmt, df])\n",
    "    return \"|\" + df_formatted.to_csv(line_terminator=\"|\\n|\", sep=\"|\", index=False)[:-2]"
   ]
  },
  {
   "cell_type": "markdown",
   "metadata": {},
   "source": [
    "## 1.3 Load dataset"
   ]
  },
  {
   "cell_type": "code",
   "execution_count": 4,
   "metadata": {},
   "outputs": [
    {
     "name": "stdout",
     "output_type": "stream",
     "text": [
      "413840 Amazon mobile phone reviews with 3 features each.\n"
     ]
    }
   ],
   "source": [
    "# Load he data and drop columns we don't care about.\n",
    "try:\n",
    "    data = pd.read_csv(\"/Users/surya/Documents/PR Assignments/PRProject/Amazon_Unlocked_Mobile.csv\")\n",
    "    data.drop(['Product Name', 'Brand Name','Review Votes'], axis = 1, inplace = True)\n",
    "    print (\"{} Amazon mobile phone reviews with {} features each.\".format(*data.shape))\n",
    "except:\n",
    "    print (\"You need to download the dataset from https://www.kaggle.com/PromptCloudHQ/amazon-reviews-unlocked-mobile-phones\")"
   ]
  },
  {
   "cell_type": "code",
   "execution_count": null,
   "metadata": {},
   "outputs": [],
   "source": []
  },
  {
   "cell_type": "markdown",
   "metadata": {},
   "source": [
    "## 1.4 Data Cleaning and pre processing"
   ]
  },
  {
   "cell_type": "code",
   "execution_count": 5,
   "metadata": {},
   "outputs": [],
   "source": [
    "def clean_text(string): \n",
    "    # Turn warnings off because BeautifulSoup give some we don't care about\n",
    "    warnings.filterwarnings('ignore')\n",
    "    \n",
    "    # Remove xml formatting.\n",
    "    review_text = BeautifulSoup(string, \"lxml\").get_text() \n",
    "    \n",
    "    # Turn warnings back on\n",
    "    warnings.resetwarnings()\n",
    "    \n",
    "    # Remove all characters not in the English alphabet\n",
    "    string = re.sub(\"[^a-zA-Z]\",\" \", string)\n",
    "    \n",
    "    # Set all characters to lower case.\n",
    "    string = string.lower()\n",
    "    \n",
    "    return string"
   ]
  },
  {
   "cell_type": "markdown",
   "metadata": {},
   "source": [
    "## 1.5 Handling Missing Values"
   ]
  },
  {
   "cell_type": "code",
   "execution_count": 6,
   "metadata": {},
   "outputs": [],
   "source": [
    "# Sometimes people leave ratings without reviews. We are going to ignore empty reviews.\n",
    "data = data[data['Reviews'].isnull()==False]\n",
    "\n",
    "# Get the ratings column.\n",
    "ratings = data['Rating']\n",
    "\n",
    "# Get the reviews column, and clean the reviews.\n",
    "reviews = map(clean_text, data['Reviews'])"
   ]
  },
  {
   "cell_type": "markdown",
   "metadata": {},
   "source": [
    "# 2 Final goal"
   ]
  },
  {
   "cell_type": "markdown",
   "metadata": {},
   "source": [
    "Is it possible to predict the star rating of an Amazon review given the text of that review? We want to try to answer that question using a collection of 400,000 Amazon reviews of unlocked mobile phones as my dataset. We think it is interesting to see if the sentiment of a review can be decided from the text of the review itself.\n",
    "The problem of determining the sentiment of text is not new. Research was done to try to extract sentiment from movie reviews. They tried to predict whether the review was positive or negative based on the text. They found that one of the main difficulties with sentiment extraction is that it requires more understanding of the text than traditional topic-based categorization. Topic-based categorization relies on finding keywords in text, however sentiment can be expressed more subtly."
   ]
  },
  {
   "cell_type": "markdown",
   "metadata": {},
   "source": [
    "## 3 Exploratory Data Analysis"
   ]
  },
  {
   "cell_type": "markdown",
   "metadata": {},
   "source": [
    "## 3.1 Visualize your data"
   ]
  },
  {
   "cell_type": "code",
   "execution_count": 7,
   "metadata": {},
   "outputs": [
    {
     "data": {
      "text/html": [
       "<div>\n",
       "<style scoped>\n",
       "    .dataframe tbody tr th:only-of-type {\n",
       "        vertical-align: middle;\n",
       "    }\n",
       "\n",
       "    .dataframe tbody tr th {\n",
       "        vertical-align: top;\n",
       "    }\n",
       "\n",
       "    .dataframe thead th {\n",
       "        text-align: right;\n",
       "    }\n",
       "</style>\n",
       "<table border=\"1\" class=\"dataframe\">\n",
       "  <thead>\n",
       "    <tr style=\"text-align: right;\">\n",
       "      <th></th>\n",
       "      <th>Price</th>\n",
       "      <th>Rating</th>\n",
       "      <th>Reviews</th>\n",
       "    </tr>\n",
       "  </thead>\n",
       "  <tbody>\n",
       "    <tr>\n",
       "      <th>0</th>\n",
       "      <td>199.99</td>\n",
       "      <td>5</td>\n",
       "      <td>I feel so LUCKY to have found this used (phone...</td>\n",
       "    </tr>\n",
       "    <tr>\n",
       "      <th>1</th>\n",
       "      <td>199.99</td>\n",
       "      <td>4</td>\n",
       "      <td>nice phone, nice up grade from my pantach revu...</td>\n",
       "    </tr>\n",
       "    <tr>\n",
       "      <th>2</th>\n",
       "      <td>199.99</td>\n",
       "      <td>5</td>\n",
       "      <td>Very pleased</td>\n",
       "    </tr>\n",
       "    <tr>\n",
       "      <th>3</th>\n",
       "      <td>199.99</td>\n",
       "      <td>4</td>\n",
       "      <td>It works good but it goes slow sometimes but i...</td>\n",
       "    </tr>\n",
       "    <tr>\n",
       "      <th>4</th>\n",
       "      <td>199.99</td>\n",
       "      <td>4</td>\n",
       "      <td>Great phone to replace my lost phone. The only...</td>\n",
       "    </tr>\n",
       "  </tbody>\n",
       "</table>\n",
       "</div>"
      ],
      "text/plain": [
       "    Price  Rating                                            Reviews\n",
       "0  199.99       5  I feel so LUCKY to have found this used (phone...\n",
       "1  199.99       4  nice phone, nice up grade from my pantach revu...\n",
       "2  199.99       5                                       Very pleased\n",
       "3  199.99       4  It works good but it goes slow sometimes but i...\n",
       "4  199.99       4  Great phone to replace my lost phone. The only..."
      ]
     },
     "execution_count": 7,
     "metadata": {},
     "output_type": "execute_result"
    }
   ],
   "source": [
    "data.head(5)"
   ]
  },
  {
   "cell_type": "code",
   "execution_count": 8,
   "metadata": {},
   "outputs": [
    {
     "data": {
      "text/html": [
       "<div>\n",
       "<style scoped>\n",
       "    .dataframe tbody tr th:only-of-type {\n",
       "        vertical-align: middle;\n",
       "    }\n",
       "\n",
       "    .dataframe tbody tr th {\n",
       "        vertical-align: top;\n",
       "    }\n",
       "\n",
       "    .dataframe thead th {\n",
       "        text-align: right;\n",
       "    }\n",
       "</style>\n",
       "<table border=\"1\" class=\"dataframe\">\n",
       "  <thead>\n",
       "    <tr style=\"text-align: right;\">\n",
       "      <th></th>\n",
       "      <th>Price</th>\n",
       "      <th>Rating</th>\n",
       "      <th>Reviews</th>\n",
       "    </tr>\n",
       "  </thead>\n",
       "  <tbody>\n",
       "    <tr>\n",
       "      <th>413835</th>\n",
       "      <td>79.95</td>\n",
       "      <td>5</td>\n",
       "      <td>another great deal great price</td>\n",
       "    </tr>\n",
       "    <tr>\n",
       "      <th>413836</th>\n",
       "      <td>79.95</td>\n",
       "      <td>3</td>\n",
       "      <td>Ok</td>\n",
       "    </tr>\n",
       "    <tr>\n",
       "      <th>413837</th>\n",
       "      <td>79.95</td>\n",
       "      <td>5</td>\n",
       "      <td>Passes every drop test onto porcelain tile!</td>\n",
       "    </tr>\n",
       "    <tr>\n",
       "      <th>413838</th>\n",
       "      <td>79.95</td>\n",
       "      <td>3</td>\n",
       "      <td>I returned it because it did not meet my needs...</td>\n",
       "    </tr>\n",
       "    <tr>\n",
       "      <th>413839</th>\n",
       "      <td>79.95</td>\n",
       "      <td>4</td>\n",
       "      <td>Only downside is that apparently Verizon no lo...</td>\n",
       "    </tr>\n",
       "  </tbody>\n",
       "</table>\n",
       "</div>"
      ],
      "text/plain": [
       "        Price  Rating                                            Reviews\n",
       "413835  79.95       5                     another great deal great price\n",
       "413836  79.95       3                                                 Ok\n",
       "413837  79.95       5        Passes every drop test onto porcelain tile!\n",
       "413838  79.95       3  I returned it because it did not meet my needs...\n",
       "413839  79.95       4  Only downside is that apparently Verizon no lo..."
      ]
     },
     "execution_count": 8,
     "metadata": {},
     "output_type": "execute_result"
    }
   ],
   "source": [
    "data.tail(5)"
   ]
  },
  {
   "cell_type": "code",
   "execution_count": 9,
   "metadata": {},
   "outputs": [
    {
     "data": {
      "text/html": [
       "<div>\n",
       "<style scoped>\n",
       "    .dataframe tbody tr th:only-of-type {\n",
       "        vertical-align: middle;\n",
       "    }\n",
       "\n",
       "    .dataframe tbody tr th {\n",
       "        vertical-align: top;\n",
       "    }\n",
       "\n",
       "    .dataframe thead th {\n",
       "        text-align: right;\n",
       "    }\n",
       "</style>\n",
       "<table border=\"1\" class=\"dataframe\">\n",
       "  <thead>\n",
       "    <tr style=\"text-align: right;\">\n",
       "      <th></th>\n",
       "      <th>Price</th>\n",
       "      <th>Rating</th>\n",
       "    </tr>\n",
       "  </thead>\n",
       "  <tbody>\n",
       "    <tr>\n",
       "      <th>count</th>\n",
       "      <td>407848.000000</td>\n",
       "      <td>413778.000000</td>\n",
       "    </tr>\n",
       "    <tr>\n",
       "      <th>mean</th>\n",
       "      <td>226.867148</td>\n",
       "      <td>3.819609</td>\n",
       "    </tr>\n",
       "    <tr>\n",
       "      <th>std</th>\n",
       "      <td>273.019444</td>\n",
       "      <td>1.548212</td>\n",
       "    </tr>\n",
       "    <tr>\n",
       "      <th>min</th>\n",
       "      <td>1.730000</td>\n",
       "      <td>1.000000</td>\n",
       "    </tr>\n",
       "    <tr>\n",
       "      <th>25%</th>\n",
       "      <td>79.990000</td>\n",
       "      <td>3.000000</td>\n",
       "    </tr>\n",
       "    <tr>\n",
       "      <th>50%</th>\n",
       "      <td>144.710000</td>\n",
       "      <td>5.000000</td>\n",
       "    </tr>\n",
       "    <tr>\n",
       "      <th>75%</th>\n",
       "      <td>269.990000</td>\n",
       "      <td>5.000000</td>\n",
       "    </tr>\n",
       "    <tr>\n",
       "      <th>max</th>\n",
       "      <td>2598.000000</td>\n",
       "      <td>5.000000</td>\n",
       "    </tr>\n",
       "  </tbody>\n",
       "</table>\n",
       "</div>"
      ],
      "text/plain": [
       "               Price         Rating\n",
       "count  407848.000000  413778.000000\n",
       "mean      226.867148       3.819609\n",
       "std       273.019444       1.548212\n",
       "min         1.730000       1.000000\n",
       "25%        79.990000       3.000000\n",
       "50%       144.710000       5.000000\n",
       "75%       269.990000       5.000000\n",
       "max      2598.000000       5.000000"
      ]
     },
     "execution_count": 9,
     "metadata": {},
     "output_type": "execute_result"
    }
   ],
   "source": [
    "data.describe()"
   ]
  },
  {
   "cell_type": "code",
   "execution_count": 10,
   "metadata": {},
   "outputs": [
    {
     "name": "stdout",
     "output_type": "stream",
     "text": [
      "<class 'pandas.core.frame.DataFrame'>\n",
      "Int64Index: 413778 entries, 0 to 413839\n",
      "Data columns (total 3 columns):\n",
      " #   Column   Non-Null Count   Dtype  \n",
      "---  ------   --------------   -----  \n",
      " 0   Price    407848 non-null  float64\n",
      " 1   Rating   413778 non-null  int64  \n",
      " 2   Reviews  413778 non-null  object \n",
      "dtypes: float64(1), int64(1), object(1)\n",
      "memory usage: 12.6+ MB\n"
     ]
    }
   ],
   "source": [
    "data.info()"
   ]
  },
  {
   "cell_type": "markdown",
   "metadata": {},
   "source": [
    "## 3.2 plotting histograms"
   ]
  },
  {
   "cell_type": "code",
   "execution_count": 11,
   "metadata": {},
   "outputs": [
    {
     "data": {
      "text/plain": [
       "Text(0, 0.5, 'Count')"
      ]
     },
     "execution_count": 11,
     "metadata": {},
     "output_type": "execute_result"
    },
    {
     "data": {
      "image/png": "[encoded data removed]",
      "text/plain": [
       "<Figure size 432x288 with 1 Axes>"
      ]
     },
     "metadata": {
      "needs_background": "light"
     },
     "output_type": "display_data"
    }
   ],
   "source": [
    "# https://github.com/ipython/ipython/issues/9242\n",
    "warnings.filterwarnings('ignore', category=DeprecationWarning, message='.*use @default decorator instead.*')\n",
    "\n",
    "# Create and print a rating distribution graph.\n",
    "rating_distribution_plt = data.groupby(['Rating']).count().plot(kind='bar', legend=None, title=\"Rating Distribution\")\n",
    "rating_distribution_plt.set_xlabel(\"Rating\")\n",
    "rating_distribution_plt.set_ylabel(\"Count\")"
   ]
  },
  {
   "cell_type": "code",
   "execution_count": 12,
   "metadata": {},
   "outputs": [
    {
     "data": {
      "text/plain": [
       "Text(0, 0.5, 'Count')"
      ]
     },
     "execution_count": 12,
     "metadata": {},
     "output_type": "execute_result"
    },
    {
     "data": {
      "image/png": "[encoded data removed]",
      "text/plain": [
       "<Figure size 864x432 with 1 Axes>"
      ]
     },
     "metadata": {
      "needs_background": "light"
     },
     "output_type": "display_data"
    }
   ],
   "source": [
    "# Create and print a Reviews length distribution graph.\n",
    "review_length_distribution_plt = pd.DataFrame(data[\"Reviews\"].str.len())\n",
    "review_length_distribution_plt = review_length_distribution_plt[review_length_distribution_plt.Reviews < 5000]\n",
    "review_length_distribution_plt.groupby([\"Reviews\"])\n",
    "review_length_distribution_plt = review_length_distribution_plt.plot(kind='hist', \n",
    "                                                                     legend=None, \n",
    "                                                                     bins=50, \n",
    "                                                                     figsize=(12, 6))\n",
    "review_length_distribution_plt.set_xlabel(\"Review Length\")\n",
    "review_length_distribution_plt.set_ylabel(\"Count\")\n"
   ]
  },
  {
   "cell_type": "markdown",
   "metadata": {},
   "source": [
    "## 3.3 plotting variables"
   ]
  },
  {
   "cell_type": "code",
   "execution_count": 13,
   "metadata": {},
   "outputs": [
    {
     "data": {
      "image/png": "[encoded data removed]",
      "text/plain": [
       "<Figure size 576x576 with 1 Axes>"
      ]
     },
     "metadata": {},
     "output_type": "display_data"
    }
   ],
   "source": [
    "# Pie chart, where the slices will be ordered and plotted counter-clockwise:\n",
    "labels = [f'{k} ({data[\"Rating\"].value_counts()[k]} samples)' for k in data['Rating'].value_counts().keys()]\n",
    "sizes = dict(data['Rating'].value_counts()).values()\n",
    "\n",
    "fig1, ax1 = plt.subplots(figsize=(8,8))\n",
    "ax1.pie(sizes, labels=labels, autopct='%1.1f%%',\n",
    "        shadow=True, startangle=90)\n",
    "ax1.axis('equal')  # Equal aspect ratio ensures that pie is drawn as a circle.\n",
    "ax1.set_title(\"Distribution of ratings in reviews\",pad=40, fontweight='bold', fontsize=15)\n",
    "plt.show();"
   ]
  },
  {
   "cell_type": "code",
   "execution_count": 14,
   "metadata": {},
   "outputs": [
    {
     "data": {
      "image/png": "[encoded data removed]",
      "text/plain": [
       "<Figure size 720x360 with 1 Axes>"
      ]
     },
     "metadata": {
      "needs_background": "light"
     },
     "output_type": "display_data"
    }
   ],
   "source": [
    "import matplotlib.pyplot as plt\n",
    "%matplotlib inline\n",
    "import seaborn as sns\n",
    "import warnings\n",
    "warnings.filterwarnings(\"ignore\")\n",
    "\n",
    "plt.figure(figsize=(10,5))\n",
    "sns.countplot(data['Rating'], palette=sns.color_palette(\"RdYlGn\", 5))\n",
    "plt.title(\"Distribution of Ratings across the entire dataset\", fontweight='bold', fontsize=15)\n",
    "plt.xlabel(\"Ratings of Reviews\")\n",
    "plt.ylabel(\"Number of reviews corresponding to each of 5 ratings\")\n",
    "plt.show();"
   ]
  },
  {
   "cell_type": "markdown",
   "metadata": {},
   "source": []
  },
  {
   "cell_type": "markdown",
   "metadata": {},
   "source": [
    "## 3.4 correlation analysis"
   ]
  },
  {
   "cell_type": "code",
   "execution_count": 15,
   "metadata": {},
   "outputs": [
    {
     "data": {
      "image/png": "[encoded data removed]",
      "text/plain": [
       "<Figure size 432x288 with 2 Axes>"
      ]
     },
     "metadata": {
      "needs_background": "light"
     },
     "output_type": "display_data"
    }
   ],
   "source": [
    "fig, ax =plt.subplots(1,2)\n",
    "sns.kdeplot(data['Rating'],shade=True,color=\"purple\",ax=ax[0])\n",
    "sns.kdeplot(data['Price'],shade=True,color=\"blue\",ax=ax[1])\n",
    "fig.show()"
   ]
  },
  {
   "cell_type": "code",
   "execution_count": 16,
   "metadata": {},
   "outputs": [],
   "source": [
    "Expensive=data[data['Price']>250]\n",
    "N_Expensive=data[data['Price']<250]"
   ]
  },
  {
   "cell_type": "code",
   "execution_count": 17,
   "metadata": {},
   "outputs": [
    {
     "data": {
      "text/plain": [
       "110641"
      ]
     },
     "execution_count": 17,
     "metadata": {},
     "output_type": "execute_result"
    }
   ],
   "source": [
    "len(Expensive)"
   ]
  },
  {
   "cell_type": "code",
   "execution_count": 18,
   "metadata": {},
   "outputs": [
    {
     "data": {
      "text/plain": [
       "296624"
      ]
     },
     "execution_count": 18,
     "metadata": {},
     "output_type": "execute_result"
    }
   ],
   "source": [
    "len(N_Expensive)"
   ]
  },
  {
   "cell_type": "code",
   "execution_count": 19,
   "metadata": {},
   "outputs": [
    {
     "data": {
      "text/plain": [
       "27.166832406418422"
      ]
     },
     "execution_count": 19,
     "metadata": {},
     "output_type": "execute_result"
    }
   ],
   "source": [
    "(len(Expensive)/float(len(Expensive)+len(N_Expensive)))*100"
   ]
  },
  {
   "cell_type": "code",
   "execution_count": 20,
   "metadata": {},
   "outputs": [
    {
     "data": {
      "text/plain": [
       "<AxesSubplot:xlabel='Rating', ylabel='Density'>"
      ]
     },
     "execution_count": 20,
     "metadata": {},
     "output_type": "execute_result"
    },
    {
     "data": {
      "image/png": "[encoded data removed]",
      "text/plain": [
       "<Figure size 432x288 with 1 Axes>"
      ]
     },
     "metadata": {
      "needs_background": "light"
     },
     "output_type": "display_data"
    }
   ],
   "source": [
    "sns.kdeplot(Expensive['Rating'],shade=True,color=\"red\")"
   ]
  },
  {
   "cell_type": "code",
   "execution_count": 21,
   "metadata": {},
   "outputs": [
    {
     "data": {
      "text/plain": [
       "<AxesSubplot:xlabel='Rating', ylabel='Density'>"
      ]
     },
     "execution_count": 21,
     "metadata": {},
     "output_type": "execute_result"
    },
    {
     "data": {
      "image/png": "[encoded data removed]",
      "text/plain": [
       "<Figure size 432x288 with 1 Axes>"
      ]
     },
     "metadata": {
      "needs_background": "light"
     },
     "output_type": "display_data"
    }
   ],
   "source": [
    "sns.kdeplot(N_Expensive['Rating'],shade=True,color=\"green\")"
   ]
  },
  {
   "cell_type": "markdown",
   "metadata": {},
   "source": [
    "Overall , It could be infered that pricing has not much effect on the ratings of phones."
   ]
  },
  {
   "cell_type": "code",
   "execution_count": 22,
   "metadata": {},
   "outputs": [],
   "source": [
    "data.drop(['Price'], axis = 1, inplace = True)"
   ]
  },
  {
   "cell_type": "markdown",
   "metadata": {},
   "source": [
    "## 3.5 Observation"
   ]
  },
  {
   "cell_type": "markdown",
   "metadata": {},
   "source": [
    "Observation:\n",
    "\n",
    "-68 percent of the reviews in the dataset are positive reviews having ratings >3 (4 and 5)\n",
    "\n",
    "-23 percent of the reviews in the dataset are negative reviews having ratings <3 (1 and 2)\n",
    "\n",
    "-Remaining 8 percent reviews have a rating of 3.\n",
    "\n",
    "Since a major portion of the reviews are positive, we can say that most of the users have a good experience with their purchases.\n"
   ]
  },
  {
   "cell_type": "markdown",
   "metadata": {},
   "source": [
    "## 3.6 Feature Extraction"
   ]
  },
  {
   "cell_type": "code",
   "execution_count": null,
   "metadata": {},
   "outputs": [],
   "source": []
  },
  {
   "cell_type": "code",
   "execution_count": 23,
   "metadata": {},
   "outputs": [],
   "source": [
    "vectorizer = TfidfVectorizer(\n",
    "        min_df=2,               # Ignore phrases that are in fewer than 2 reviews\n",
    "        max_df=0.95,            # Ignore phrases that are in 95% of reviews\n",
    "        ngram_range = (1,4),    # Take phrases between 1 and 4 words\n",
    "        stop_words = 'english', # Remove common English words\n",
    "        # max_features = 300    # The max features amount of features. Set this to \n",
    "                                # something small when getting most relevant phrases to \n",
    "                                # prevent crases (We have to do some array conversions which \n",
    "                                # take a lot of memory)\n",
    "        )\n",
    "\n",
    "# Extract features from reviews.\n",
    "review_features = vectorizer.fit_transform(reviews)"
   ]
  },
  {
   "cell_type": "markdown",
   "metadata": {},
   "source": [
    "### Get most relevant  phrases"
   ]
  },
  {
   "cell_type": "code",
   "execution_count": 24,
   "metadata": {},
   "outputs": [],
   "source": [
    "def get_most_relevant_phrases():\n",
    "    # Convert features into an array\n",
    "    feature_array = np.array(vectorizer.get_feature_names()) \n",
    "    \n",
    "    # Sort features by weight.\n",
    "    tfidf_sorting = np.argsort(review_features.toarray()).flatten()[::-1]\n",
    "    \n",
    "    # Get the top eight most weighted features.\n",
    "    top_n = feature_array[tfidf_sorting][:8]\n",
    "    return top_n"
   ]
  },
  {
   "cell_type": "code",
   "execution_count": 25,
   "metadata": {},
   "outputs": [],
   "source": [
    "# It's important not to run this unless you set max_features in TfidfVectorizer to something small. \n",
    "# The array conversions can take a lot of memory.\n",
    "# print (get_most_relevant_phrases())"
   ]
  },
  {
   "cell_type": "markdown",
   "metadata": {},
   "source": [
    "## Train/Test Split"
   ]
  },
  {
   "cell_type": "code",
   "execution_count": 26,
   "metadata": {},
   "outputs": [
    {
     "name": "stdout",
     "output_type": "stream",
     "text": [
      "(289644, 3553748)\n"
     ]
    }
   ],
   "source": [
    "X_train, X_test, y_train, y_test = model_selection.train_test_split(\n",
    "                                            review_features,   # The features we created from the reviews\n",
    "                                            ratings,           # The ratings we are trying to predict\n",
    "                                            stratify=ratings,  # We have an imbalance of 5-star reviews, so let's stratify\n",
    "                                            random_state = 12, # Random seed\n",
    "                                            test_size = 0.3    # We need to save 30% of the data for testing\n",
    "                                            )\n",
    "print (X_train.shape)"
   ]
  },
  {
   "cell_type": "markdown",
   "metadata": {},
   "source": [
    "## Get example reviews"
   ]
  },
  {
   "cell_type": "code",
   "execution_count": 27,
   "metadata": {},
   "outputs": [
    {
     "name": "stdout",
     "output_type": "stream",
     "text": [
      "|Rating|Reviews|\n",
      "|---|---|\n",
      "|5|Excellent product! It's working in Chile with Argentinian and Italian SIM cards. Very good battery life (almost 7 days with regular use).|\n",
      "|4|Purchased this phone for my son after breaking his iphone. We're pleased with the RCA and he hasn't had any issues with the phone, usage or connectivity and we're on the AT&T network.|\n",
      "|4|My daughter loves her new phone.|\n",
      "|2|Stopped working after 6 days. Amazon refunded money with no issues.|\n",
      "|1|No lo recomiendo. No funciona en Venezuela. No viene con idioma español solo ingles y francés.Not recommend. Does not work in Venezuela.|\n",
      "|3|I love the keyboard on the phone/and wifi, but the volume is not that great and earpiece did not work with phone.|\n"
     ]
    }
   ],
   "source": [
    "# Find a random set of reviews so we can see how each model performs on it.\n",
    "example_review_set = pd.DataFrame(y_test[191:197].index).join(data, on=0)\n",
    "print(pandas_df_to_markdown_table(example_review_set[['Rating','Reviews']]))"
   ]
  },
  {
   "cell_type": "markdown",
   "metadata": {},
   "source": [
    "# 4. Final Analysis/ Model building"
   ]
  },
  {
   "cell_type": "markdown",
   "metadata": {},
   "source": [
    "### Benchmark model"
   ]
  },
  {
   "cell_type": "markdown",
   "metadata": {},
   "source": [
    "For the benchmark, we are not going to do any parameter tuning; we are going to use sklearns default parameters. As we will see, logistic regression does fairly well right out of the box."
   ]
  },
  {
   "cell_type": "code",
   "execution_count": null,
   "metadata": {},
   "outputs": [],
   "source": [
    "clf_benchmark = LogisticRegression(random_state=22).fit(X_train, y_train)\n",
    "print( classification_report(y_test, clf_benchmark.predict(X_test), digits=4))"
   ]
  },
  {
   "cell_type": "markdown",
   "metadata": {},
   "source": [
    "### Other models "
   ]
  },
  {
   "cell_type": "markdown",
   "metadata": {},
   "source": [
    "Create an unoptimized MultinomialNB classifier."
   ]
  },
  {
   "cell_type": "code",
   "execution_count": 15,
   "metadata": {},
   "outputs": [
    {
     "name": "stdout",
     "output_type": "stream",
     "text": [
      "              precision    recall  f1-score   support\n",
      "\n",
      "           1     0.8839    0.7198    0.7934     21701\n",
      "           2     0.9990    0.1302    0.2304      7417\n",
      "           3     0.9976    0.1322    0.2335      9529\n",
      "           4     0.9982    0.1770    0.3007     18412\n",
      "           5     0.6637    0.9991    0.7976     67075\n",
      "\n",
      "    accuracy                         0.7099    124134\n",
      "   macro avg     0.9085    0.4317    0.4711    124134\n",
      "weighted avg     0.7975    0.7099    0.6460    124134\n",
      "\n"
     ]
    }
   ],
   "source": [
    "clf_NB = MultinomialNB()\n",
    "clf_NB.fit(X_train, y_train)\n",
    "print( classification_report(y_test, clf_NB.predict(X_test), digits=4))"
   ]
  },
  {
   "cell_type": "markdown",
   "metadata": {},
   "source": [
    "Create an unoptimized SGDClassifier classifier."
   ]
  },
  {
   "cell_type": "code",
   "execution_count": 16,
   "metadata": {},
   "outputs": [
    {
     "name": "stdout",
     "output_type": "stream",
     "text": [
      "              precision    recall  f1-score   support\n",
      "\n",
      "           1     0.6899    0.7996    0.7407     21701\n",
      "           2     0.9188    0.1068    0.1913      7417\n",
      "           3     0.8589    0.1111    0.1968      9529\n",
      "           4     0.7763    0.0505    0.0948     18412\n",
      "           5     0.6924    0.9878    0.8142     67075\n",
      "\n",
      "    accuracy                         0.6959    124134\n",
      "   macro avg     0.7873    0.4112    0.4076    124134\n",
      "weighted avg     0.7307    0.6959    0.6100    124134\n",
      "\n"
     ]
    }
   ],
   "source": [
    "clf_SGD = SGDClassifier(random_state=22)\n",
    "clf_SGD.fit(X_train, y_train)\n",
    "print( classification_report(y_test, clf_SGD.predict(X_test), digits=4))"
   ]
  },
  {
   "cell_type": "markdown",
   "metadata": {},
   "source": [
    "### Refinement "
   ]
  },
  {
   "cell_type": "markdown",
   "metadata": {},
   "source": [
    "The alpha paramter determines what value we give the when we see a feature that we haven’t encountered in the testing data. We can’t use 0 because MultinomialNB multiplies these probabilities together and our whole prediction becomes 0. For example, if we find a 5-star review with a single word that we’ve never seen in a 5-star review before we don’t want our prediction to be 0."
   ]
  },
  {
   "cell_type": "code",
   "execution_count": 17,
   "metadata": {},
   "outputs": [
    {
     "data": {
      "text/plain": [
       "GridSearchCV(estimator=MultinomialNB(),\n",
       "             param_grid={'alpha': [0.1, 0.25, 0.5, 0.75, 1.0, 1.25, 1.5, 1.75,\n",
       "                                   2]})"
      ]
     },
     "execution_count": 17,
     "metadata": {},
     "output_type": "execute_result"
    }
   ],
   "source": [
    "parameters = { 'alpha': [0.1, 0.25, 0.5, 0.75, 1.0, 1.25, 1.5, 1.75, 2] }\n",
    "clf_NB_refined = GridSearchCV(MultinomialNB(), parameters)\n",
    "clf_NB_refined.fit(X_train, y_train)"
   ]
  },
  {
   "cell_type": "code",
   "execution_count": 18,
   "metadata": {},
   "outputs": [
    {
     "data": {
      "text/plain": [
       "{'alpha': 0.1}"
      ]
     },
     "execution_count": 18,
     "metadata": {},
     "output_type": "execute_result"
    }
   ],
   "source": [
    "# Print out the parameters GridSearchCV decided on.\n",
    "clf_NB_refined.best_params_"
   ]
  },
  {
   "cell_type": "markdown",
   "metadata": {},
   "source": [
    "The SGDClassifier guide on sklearn’s site gives some reasonable ranges to search over for alpha and n_iter. It recommends the range `10.0**-np.arange(1,7)` for alpha and `np.ceil(10**6 / n)` (n is the size of the training set) as a first guess for n_iter. Since our training size has 289,645 rows, it recommends a n_iter of 3, so we are going to try a couple of values around 3. For penalty, we are just going to try every possible value. Finally, we are going to try three loss functions: hinge (linear SVM), log (logistic regression), perceptron (perceptron algorithm)."
   ]
  },
  {
   "cell_type": "code",
   "execution_count": 19,
   "metadata": {},
   "outputs": [],
   "source": [
    "#parameters = [{ 'loss': ['hinge', 'log_loss', 'perceptron'], \n",
    "                #'alpha': 10.0**-np.arange(1,7),\n",
    "                #'penalty': ['l1', 'l2', 'elasticnet'],\n",
    "                #'max_iter': [2000,3000,4000,5000] }]\n",
    "#clf_SGD_refined = GridSearchCV(SGDClassifier(random_state=22), parameters)\n",
    "#clf_SGD_refined.fit(X_train, y_train)"
   ]
  },
  {
   "cell_type": "code",
   "execution_count": 20,
   "metadata": {},
   "outputs": [],
   "source": [
    "# Print out the parameters GridSearchCV decided on.\n",
    "#clf_SGD_refined.best_params_"
   ]
  },
  {
   "cell_type": "markdown",
   "metadata": {},
   "source": [
    "# 5 Evaluating the results"
   ]
  },
  {
   "cell_type": "markdown",
   "metadata": {},
   "source": [
    "### Accuracy and F1-Scores"
   ]
  },
  {
   "cell_type": "code",
   "execution_count": 21,
   "metadata": {
    "scrolled": false
   },
   "outputs": [
    {
     "name": "stdout",
     "output_type": "stream",
     "text": [
      "\n",
      "Accuracy: \n",
      "LogisticRegression: 0.780003866789115\n",
      "MultinomialNB:      0.849299950053974\n",
      "\n",
      "classification reports: \n",
      "LogisticRegression: \n",
      "              precision    recall  f1-score   support\n",
      "\n",
      "           1     0.7388    0.8967    0.8101     21701\n",
      "           2     0.8290    0.3073    0.4484      7417\n",
      "           3     0.7386    0.3721    0.4949      9529\n",
      "           4     0.6832    0.3836    0.4913     18412\n",
      "           5     0.8069    0.9613    0.8774     67075\n",
      "\n",
      "    accuracy                         0.7800    124134\n",
      "   macro avg     0.7593    0.5842    0.6244    124134\n",
      "weighted avg     0.7727    0.7800    0.7534    124134\n",
      "\n",
      "MultinomialNB: \n",
      "              precision    recall  f1-score   support\n",
      "\n",
      "           1     0.8570    0.9093    0.8824     21701\n",
      "           2     0.9379    0.6024    0.7336      7417\n",
      "           3     0.8819    0.5949    0.7105      9529\n",
      "           4     0.8536    0.5524    0.6707     18412\n",
      "           5     0.8383    0.9748    0.9014     67075\n",
      "\n",
      "    accuracy                         0.8493    124134\n",
      "   macro avg     0.8737    0.7268    0.7797    124134\n",
      "weighted avg     0.8531    0.8493    0.8392    124134\n",
      "\n"
     ]
    }
   ],
   "source": [
    "print(\"\\nAccuracy: \")\n",
    "print( \"LogisticRegression: \" + repr(accuracy_score(y_test, clf_benchmark.predict(X_test))) )\n",
    "print( \"MultinomialNB:      \" + repr(accuracy_score(y_test, clf_NB_refined.predict(X_test))) )\n",
    "#print( \"SGDClassifier:      \" + repr(accuracy_score(y_test, clf_SGD_refined.predict(X_test))) )\n",
    "\n",
    "print(\"\\nclassification reports: \")\n",
    "print( \"LogisticRegression: \" )\n",
    "print( classification_report(y_test, clf_benchmark.predict(X_test), digits=4))\n",
    "print( \"MultinomialNB: \" ) \n",
    "print( classification_report(y_test, clf_NB_refined.predict(X_test), digits=4))\n",
    "#print( \"SGDClassifier: \" ) \n",
    "#print( classification_report(y_test, clf_SGD_refined.predict(X_test), digits=4))"
   ]
  },
  {
   "cell_type": "markdown",
   "metadata": {},
   "source": [
    "### Performance on example reviews"
   ]
  },
  {
   "cell_type": "code",
   "execution_count": 22,
   "metadata": {},
   "outputs": [
    {
     "name": "stderr",
     "output_type": "stream",
     "text": [
      "/var/folders/cc/vshs378n5mj8c5pfq8c2bfs40000gn/T/ipykernel_32982/3708270482.py:5: FutureWarning: arrays to stack must be passed as a \"sequence\" type such as list or tuple. Support for non-sequence iterables such as generators is deprecated as of NumPy 1.16 and will raise an error in the future.\n",
      "  predicted_ratings_0 = np.hstack(map(clf_benchmark.predict, example_reviews_features))\n",
      "/var/folders/cc/vshs378n5mj8c5pfq8c2bfs40000gn/T/ipykernel_32982/3708270482.py:6: FutureWarning: arrays to stack must be passed as a \"sequence\" type such as list or tuple. Support for non-sequence iterables such as generators is deprecated as of NumPy 1.16 and will raise an error in the future.\n",
      "  predicted_ratings_1 = np.hstack(map(clf_NB_refined.predict, example_reviews_features))\n"
     ]
    },
    {
     "name": "stdout",
     "output_type": "stream",
     "text": [
      "|Rating|LR|MNB|Review|\n",
      "|---|---|---|---|\n",
      "|5|5|5|Excellent product! It's working in Chile with Arge...|\n",
      "|4|5|5|Purchased this phone for my son after breaking his...|\n",
      "|4|5|5|My daughter loves her new phone.|\n",
      "|2|2|2|Stopped working after 6 days. Amazon refunded mone...|\n",
      "|1|5|5|No lo recomiendo. No funciona en Venezuela. No vie...|\n",
      "|3|3|4|I love the keyboard on the phone/and wifi, but the...|\n"
     ]
    }
   ],
   "source": [
    "# Create features on the example reviews.\n",
    "example_reviews_features = vectorizer.transform(example_review_set.Reviews)\n",
    "\n",
    "# Predict the reviews with each model.\n",
    "predicted_ratings_0 = np.hstack(map(clf_benchmark.predict, example_reviews_features))\n",
    "predicted_ratings_1 = np.hstack(map(clf_NB_refined.predict, example_reviews_features))\n",
    "#predicted_ratings_2 = np.hstack(map(clf_SGD_refined.predict, example_reviews_features))\n",
    "\n",
    "# We don't need to print the whole review out; just enough to compare to the first table.\n",
    "def shorten_text(x):\n",
    "    length = 50\n",
    "    r = x[:length]\n",
    "    if len(x) > length:\n",
    "        r = r + \"...\"\n",
    "    return r\n",
    "\n",
    "# Create a table of reviews.\n",
    "example_review_table = pd.DataFrame( { \n",
    "              'Rating': example_review_set.Rating,\n",
    "              'LR': predicted_ratings_0,\n",
    "              'MNB': predicted_ratings_1,\n",
    "              'Review': map(shorten_text, example_review_set.Reviews)\n",
    "              }\n",
    "            )\n",
    "\n",
    "# Reorder columns.\n",
    "example_review_table = example_review_table[['Rating', 'LR','MNB', 'Review']]\n",
    "\n",
    "# Print reviews in a markdown table.\n",
    "print (pandas_df_to_markdown_table(example_review_table))"
   ]
  },
  {
   "cell_type": "markdown",
   "metadata": {},
   "source": [
    "### Confusion Matrices"
   ]
  },
  {
   "cell_type": "code",
   "execution_count": 23,
   "metadata": {},
   "outputs": [],
   "source": [
    "# A function to help create confusion matrices.\n",
    "# http://scikit-learn.org/stable/auto_examples/model_selection/plot_confusion_matrix.html\n",
    "def plot_confusion_matrix(cm, title='Confusion matrix', cmap=plt.cm.Blues):\n",
    "    plt.figure( figsize=(9,4), facecolor='white')\n",
    "    plt.imshow(cm, interpolation='nearest', cmap=cmap)\n",
    "    plt.title(title)\n",
    "    plt.colorbar()\n",
    "    tick_marks = np.arange(len(set(ratings)))\n",
    "    plt.xticks(tick_marks, set(ratings), rotation=45)\n",
    "    plt.yticks(tick_marks, set(ratings))\n",
    "    plt.tight_layout()\n",
    "    plt.ylabel('True label')\n",
    "    plt.xlabel('Predicted label')"
   ]
  },
  {
   "cell_type": "code",
   "execution_count": 24,
   "metadata": {},
   "outputs": [],
   "source": [
    "# A function to create and print confusion matrix.\n",
    "def create_and_print_confusion_matrix(y_test, predicted, title):\n",
    "    cm = confusion_matrix(y_test, predicted)\n",
    "    np.set_printoptions(precision=2)\n",
    "    plt.figure()\n",
    "    plot_confusion_matrix(cm, title) \n",
    "    plt.show()"
   ]
  },
  {
   "cell_type": "code",
   "execution_count": 25,
   "metadata": {},
   "outputs": [
    {
     "data": {
      "text/plain": [
       "<Figure size 640x480 with 0 Axes>"
      ]
     },
     "metadata": {},
     "output_type": "display_data"
    },
    {
     "data": {
      "image/png": "[encoded data removed]",
      "text/plain": [
       "<Figure size 900x400 with 2 Axes>"
      ]
     },
     "metadata": {},
     "output_type": "display_data"
    }
   ],
   "source": [
    "# Create logistic regression confusion matrix.\n",
    "create_and_print_confusion_matrix(y_test, clf_benchmark.predict(X_test), \"LogisticRegression\")"
   ]
  },
  {
   "cell_type": "code",
   "execution_count": 26,
   "metadata": {},
   "outputs": [
    {
     "data": {
      "text/plain": [
       "<Figure size 640x480 with 0 Axes>"
      ]
     },
     "metadata": {},
     "output_type": "display_data"
    },
    {
     "data": {
      "image/png": "[encoded data removed]",
      "text/plain": [
       "<Figure size 900x400 with 2 Axes>"
      ]
     },
     "metadata": {},
     "output_type": "display_data"
    }
   ],
   "source": [
    "# Create MultinomialNB confusion matrix.\n",
    "create_and_print_confusion_matrix(y_test, clf_NB_refined.predict(X_test),\"MultinomialNB\")"
   ]
  },
  {
   "cell_type": "markdown",
   "metadata": {},
   "source": [
    "# 6. Summary"
   ]
  },
  {
   "cell_type": "markdown",
   "metadata": {},
   "source": [
    "\n",
    "The final stochastic gradient descent learning model (MultinomialNB) has a F1-Score of 0.8392, this is much better than the benchmark model which has a score of 0.7534. We can observe these from results.\n",
    "\n",
    "\n",
    "We can see that the classifiers have a hard time differentiating between 4 and 5 star reviews and 2 and 1 star reviews. One of the reviews has Spanish words, almost all the reviews are English so it’s not surprising that that all three classifier got that predictions wrong.\n",
    "The final model does a good job of finding the general sentiment of a review. If you want to determine if a review is positive or negative, then this model is probably good enough. If you want a model that can differentiate between similar star ratings (like 3-star and 4-star reviews), then more work needs to be done."
   ]
  },
  {
   "cell_type": "markdown",
   "metadata": {},
   "source": [
    "## 6.2 Improvements"
   ]
  },
  {
   "cell_type": "markdown",
   "metadata": {},
   "source": [
    "All two models have low recall on reviews with star ratings between 2 and 4. Even for a human, it’s difficult to differentiate between these reviews. The difference between a 3-star and 4-star review is very subtle. A good place to look for improvements are ways to improve recall for these mid-star reviews.\n",
    "A solution not explored in this report is a neural network. Many people have found success using neural networks for text classification problems. A good candidate would be the use of the Keras9 python library. Keras neural network library that would be useful in building a neural network model to predict ratings."
   ]
  },
  {
   "cell_type": "code",
   "execution_count": null,
   "metadata": {},
   "outputs": [],
   "source": []
  }
 ],
 "metadata": {
  "anaconda-cloud": {},
  "kernelspec": {
   "display_name": "Python 3 (ipykernel)",
   "language": "python",
   "name": "python3"
  },
  "language_info": {
   "codemirror_mode": {
    "name": "ipython",
    "version": 3
   },
   "file_extension": ".py",
   "mimetype": "text/x-python",
   "name": "python",
   "nbconvert_exporter": "python",
   "pygments_lexer": "ipython3",
   "version": "3.9.12"
  }
 },
 "nbformat": 4,
 "nbformat_minor": 1
}
